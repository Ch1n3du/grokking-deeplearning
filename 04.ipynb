{
 "cells": [
  {
   "cell_type": "markdown",
   "metadata": {},
   "source": [
    "# Chapter 3: Gradient Descent\n",
    "This chapter covers the `compare` part of `predict, compare and learn`.\n",
    "\n",
    "## What does `compare` mean?\n",
    "The `compare` stage involves trying to guess how *much* a prediction missed by."
   ]
  },
  {
   "cell_type": "code",
   "execution_count": 1,
   "metadata": {},
   "outputs": [
    {
     "name": "stdout",
     "output_type": "stream",
     "text": [
      "0.30250000000000005\n"
     ]
    }
   ],
   "source": [
    "knob_weight = 0.5\n",
    "input_ = 0.5\n",
    "# The correct answer, the ideal prediction\n",
    "goal_pred = 0.8\n",
    "\n",
    "pred = input_ * knob_weight\n",
    "\n",
    "# Means square error\n",
    "# Amplifies errors that are (>1) and shrinks those smaller than (<1)\n",
    "error = (pred - goal_pred) ** 2\n",
    "\n",
    "print(error)"
   ]
  },
  {
   "cell_type": "code",
   "execution_count": null,
   "metadata": {},
   "outputs": [],
   "source": []
  },
  {
   "cell_type": "markdown",
   "metadata": {},
   "source": [
    "## Hot/Cold Learning\n",
    "\n",
    "We'll try and cover Hot/Cold learning using a very simple neural net. Hot/Cold learning introduces another variable `step_amount`.\n",
    "We follow the following steps:\n",
    "1. Make a prediction. `input * weight`\n",
    "2. Calculate the error on the prediction. `initial_prediction`\n",
    "3. Make a prediction using the weight plus the `step_amount`. `input * (weight + step_amount)`\n",
    "4. Make a prediction using the weight minus the `step_amount`. `input * (weight - step_amount)`\n",
    "5. Based on their errors modify the weight."
   ]
  },
  {
   "cell_type": "code",
   "execution_count": 11,
   "metadata": {},
   "outputs": [
    {
     "name": "stdout",
     "output_type": "stream",
     "text": [
      "Weight: 1.5999999999999344\n",
      "Final Prediction: 0.7999999999999672\n"
     ]
    }
   ],
   "source": [
    "# Hot and Cold Learning\n",
    "weight = 0.5\n",
    "input_ = 0.5\n",
    "goal_prediction = 0.8\n",
    "\n",
    "step_amount = 0.001\n",
    "\n",
    "for _ in range(1101):\n",
    "    # Make a prediction.\n",
    "    prediction = input_ * weight\n",
    "    # Get the initial error.\n",
    "    error = (goal_prediction - prediction) ** 2\n",
    "\n",
    "    # Make a prediction with a slightly higher weight.\n",
    "    up_prediction = input_ * (weight + step_amount)\n",
    "    # Get the error.\n",
    "    up_error = (goal_prediction - up_prediction) ** 2\n",
    "\n",
    "    # Make a prediction with a slightly lower weight.\n",
    "    down_prediction = input_ * (weight - step_amount)\n",
    "    # Get the error.\n",
    "    down_error = (goal_prediction - down_prediction) ** 2\n",
    "\n",
    "    # Modify the weight accordingly.\n",
    "    if error > up_error or error > down_error:\n",
    "        if down_error < up_error:\n",
    "            weight -= step_amount\n",
    "        if up_error < down_error:\n",
    "            weight += step_amount\n",
    "\n",
    "print(f\"Weight: {weight}\")\n",
    "print(f\"Final Prediction: {input_ * weight}\")"
   ]
  },
  {
   "cell_type": "code",
   "execution_count": 1,
   "metadata": {},
   "outputs": [],
   "source": [
    "weight = 0.5\n",
    "goal_prediction = 0.8\n",
    "input_ = 0.5\n",
    "\n",
    "for iteration in range(20):\n",
    "    prediction = input_ * weight\n",
    "    error = (prediction - goal_prediction) ** 2\n",
    "    pure_error = prediction - goal_prediction\n",
    "    direction_and_amount = pure_error * input_\n",
    "    weight -= direction_and_amount\n",
    "\n",
    "    # print(f\"Error: {error}, Prediction: {prediction}\")"
   ]
  },
  {
   "cell_type": "markdown",
   "metadata": {},
   "source": [
    "### What is `direction_and_amount`?\n",
    "\n",
    "Represents how you want to change `weight`, the multiplication by the `input` that performs `scaling`, `negative reversal` and `stopping`, modifying the `pure_error` so it's ready to update `weight`.\n",
    "\n",
    "### What is `pure_error`?\n",
    "\n",
    "The pure error (`prediction - goal_prediction`) is the raw direction and amount you missed.\n",
    "If this is a *positive* number, you predicted too *high*, and vice versa. \n",
    "\n",
    "### What is `stopping`?\n",
    "\n",
    "Stopping is the first (and simplest) effect on the pure error caused by multiplying it by `input`.\n",
    "It makes sure that if `input` is `0` then it will force `direction_and_amount` to also be `0`.\n",
    "\n",
    "### What is `negative reversal`?\n",
    "\n",
    "Normally (when `input` is positive) moving `weight` upward makes the prediction move upward.\n",
    "But if `input` is negative, then all of a sudden `weight` changes directions!\n",
    "When `input` is negative, moving the `weight` *up* makes the prediction go *down*. It'\n",
    "\n",
    "### What is `scaling`?\n",
    "\n",
    "In your likeness - WoodKid"
   ]
  },
  {
   "cell_type": "code",
   "execution_count": 6,
   "metadata": {},
   "outputs": [
    {
     "name": "stdout",
     "output_type": "stream",
     "text": [
      "-----\n",
      "Weight: 0.0\n",
      "Error: 0.6400000000000001 Prediction: 0.0\n",
      "Delta: -0.8 Weight-Delta: -0.8800000000000001\n",
      "-----\n",
      "Weight: 0.08800000000000002\n",
      "Error: 0.4944902400000001 Prediction: 0.09680000000000004\n",
      "Delta: -0.7032 Weight-Delta: -0.7735200000000001\n",
      "-----\n",
      "Weight: 0.16535200000000005\n",
      "Error: 0.38206343352384003 Prediction: 0.18188720000000008\n",
      "Delta: -0.6181128 Weight-Delta: -0.67992408\n",
      "-----\n",
      "Weight: 0.23334440800000006\n",
      "Error: 0.29519787334129327 Prediction: 0.2566788488000001\n",
      "Delta: -0.5433211512 Weight-Delta: -0.59765326632\n"
     ]
    }
   ],
   "source": [
    "weight, goal_prediction, input_ = (0.0, 0.8, 1.1)\n",
    "\n",
    "for _ in range(4):\n",
    "    print(f\"-----\\nWeight: {weight}\")\n",
    "    prediction = input_ * weight\n",
    "    error = (prediction - goal_prediction) ** 2\n",
    "    delta = prediction -  goal_prediction\n",
    "    # Derivative\n",
    "    weight_delta = delta * input_\n",
    "    weight -= weight_delta * alpha\n",
    "    print(f\"Error: {error} Prediction: {prediction}\")\n",
    "    print(f\"Delta: {delta} Weight-Delta: {weight_delta}\")"
   ]
  },
  {
   "cell_type": "code",
   "execution_count": 7,
   "metadata": {},
   "outputs": [
    {
     "name": "stdout",
     "output_type": "stream",
     "text": [
      "-----\n",
      "Weight: 0\n",
      "Error: 0.24009999999999998 Prediction: 0\n",
      "Delta: -0.49 Weight-Delta: -1.96\n",
      "-----\n",
      "Weight: 0.196\n",
      "Error: 0.08643600000000003 Prediction: 0.784\n",
      "Delta: 0.29400000000000004 Weight-Delta: 1.1760000000000002\n",
      "-----\n",
      "Weight: 0.07839999999999998\n",
      "Error: 0.03111696000000002 Prediction: 0.31359999999999993\n",
      "Delta: -0.17640000000000006 Weight-Delta: -0.7056000000000002\n",
      "-----\n",
      "Weight: 0.14896\n",
      "Error: 0.01120210560000001 Prediction: 0.59584\n",
      "Delta: 0.10584000000000005 Weight-Delta: 0.4233600000000002\n",
      "-----\n",
      "Weight: 0.106624\n",
      "Error: 0.004032758016000001 Prediction: 0.426496\n",
      "Delta: -0.063504 Weight-Delta: -0.254016\n",
      "-----\n",
      "Weight: 0.1320256\n",
      "Error: 0.0014517928857599985 Prediction: 0.5281024\n",
      "Delta: 0.03810239999999998 Weight-Delta: 0.15240959999999992\n",
      "-----\n",
      "Weight: 0.11678464\n",
      "Error: 0.0005226454388736005 Prediction: 0.46713856\n",
      "Delta: -0.02286144000000001 Weight-Delta: -0.09144576000000004\n",
      "-----\n",
      "Weight: 0.125929216\n",
      "Error: 0.0001881523579944974 Prediction: 0.503716864\n",
      "Delta: 0.01371686400000005 Weight-Delta: 0.0548674560000002\n",
      "-----\n",
      "Weight: 0.12044247039999999\n",
      "Error: 6.773484887801924e-05 Prediction: 0.48176988159999995\n",
      "Delta: -0.008230118400000042 Weight-Delta: -0.032920473600000166\n",
      "-----\n",
      "Weight: 0.12373451776000001\n",
      "Error: 2.4384545596087148e-05 Prediction: 0.49493807104000004\n",
      "Delta: 0.004938071040000047 Weight-Delta: 0.01975228416000019\n"
     ]
    }
   ],
   "source": [
    "goal_prediction = 0.49\n",
    "weight = 0 \n",
    "input_ = 4\n",
    "# Used to control how fast the weight changes\n",
    "alpha = 0.1\n",
    "\n",
    "for _ in range(10):\n",
    "    print(f\"-----\\nWeight: {weight}\")\n",
    "    prediction = input_ * weight\n",
    "    # Means Square Error\n",
    "    error = (prediction - goal_prediction) ** 2\n",
    "    # How much we're wrong by\n",
    "    delta = prediction - goal_prediction\n",
    "    # The derivative of the error and the weight\n",
    "    weight_delta = delta * input_\n",
    "    weight -= weight_delta * alpha \n",
    "    print(f\"Error: {error} Prediction: {prediction}\")\n",
    "    print(f\"Delta: {delta} Weight-Delta: {weight_delta}\")"
   ]
  }
 ],
 "metadata": {
  "kernelspec": {
   "display_name": "Python 3 (ipykernel)",
   "language": "python",
   "name": "python3"
  },
  "language_info": {
   "codemirror_mode": {
    "name": "ipython",
    "version": 3
   },
   "file_extension": ".py",
   "mimetype": "text/x-python",
   "name": "python",
   "nbconvert_exporter": "python",
   "pygments_lexer": "ipython3",
   "version": "3.11.0"
  },
  "orig_nbformat": 4
 },
 "nbformat": 4,
 "nbformat_minor": 2
}
