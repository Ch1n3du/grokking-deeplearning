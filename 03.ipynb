{
 "cells": [
  {
   "cell_type": "markdown",
   "metadata": {},
   "source": [
    "# Chapter 3: Forward Propagation"
   ]
  },
  {
   "cell_type": "markdown",
   "metadata": {},
   "source": [
    "## Making a prediction with a single input\n",
    "The Neural Net multiplies the input by a weight or in other words it scales the input by a certain amount."
   ]
  },
  {
   "cell_type": "code",
   "execution_count": 1,
   "metadata": {},
   "outputs": [
    {
     "name": "stdout",
     "output_type": "stream",
     "text": [
      "Prediction: 0.8500000000000001\n"
     ]
    }
   ],
   "source": [
    "def neural_net(input, weight):\n",
    "    prediction = input * weight\n",
    "    return prediction\n",
    "\n",
    "number_of_toes = [8.5, 9.5, 10, 9]\n",
    "\n",
    "input = number_of_toes[0]\n",
    "weight = 0.1\n",
    "\n",
    "pred = neural_net(input, weight)\n",
    "\n",
    "print(f\"Prediction: {pred}\")\n",
    "\n"
   ]
  },
  {
   "cell_type": "markdown",
   "metadata": {},
   "source": [
    "## Making a prediction with multiple inputs(datapoints)\n",
    "\n",
    "To take multiple different datapoints as inputs the Neural Net keeps a *list* of weights and takes a list of inputs and performs a weighted sum on them.\n",
    "\n",
    "1. Have an empty network with multiple inputs.\n",
    "2. Insert an input datapoint.\n",
    "3. Perform a weighted sum of inputs and the weights.\n",
    "\n",
    "\n",
    ">**Note:** The weighted sum takes two lists, multiplies the values at the same index in both and sums all their products. This is also known as a **Dot Product**.\n",
    "\n",
    ">**Note** Performing an operation on two vectors of the same length where you pair values based on their location in the vector, it's known as an elementwise operation, "
   ]
  },
  {
   "cell_type": "code",
   "execution_count": 9,
   "metadata": {},
   "outputs": [
    {
     "name": "stdout",
     "output_type": "stream",
     "text": [
      "0.9800000000000001\n"
     ]
    }
   ],
   "source": [
    "\n",
    "# Basic Code\n",
    "def weighted_sum(list_1, list_2):\n",
    "    assert(len(list_1) == len(list_2))\n",
    "\n",
    "    total = 0\n",
    "    for index in range(len(list_1)):\n",
    "        total += list_1[index] * list_2[index]\n",
    "\n",
    "    return total\n",
    "\n",
    "weights = [0.1, 0.2, 0]\n",
    "def neural_net(input, weights):\n",
    "    prediction = weighted_sum(input, weights)\n",
    "    return prediction\n",
    "\n",
    "\n",
    "# Data\n",
    "toes = [8.5, 9.5, 9.9, 9.0]\n",
    "win_loss_ratio = [0.65, 0.8, 0.8, 0.9]\n",
    "number_of_fans = [1.2, 1.3, 0.5, 1.0]\n",
    "\n",
    "input = [toes[0], win_loss_ratio[0], number_of_fans[0]]\n",
    "\n",
    "pred = neural_net(input, weights)\n",
    "print(pred)"
   ]
  },
  {
   "cell_type": "code",
   "execution_count": 8,
   "metadata": {},
   "outputs": [],
   "source": [
    "# Efficient NumPy Version\n",
    "import numpy as np\n",
    "\n",
    "weights = np.array([0.1, 0.2, 0])\n",
    "def neural_net(input, weights):\n",
    "    prediction = input.dot(weights)\n",
    "    return prediction\n",
    "\n",
    "# Data\n",
    "toes = np.array([8.5, 9.5, 9.9, 9.0])\n",
    "win_loss_ratio = np.array([0.65, 0.8, 0.8, 0.9])\n",
    "number_of_fans = np.array([1.2, 1.3, 0.5, 1.0])\n",
    "\n",
    "input = np.array([toes[0], win_loss_ratio[0], number_of_fans[0]])\n",
    "\n",
    "pred = neural_net(input, weights)\n",
    "print(pred)"
   ]
  },
  {
   "cell_type": "markdown",
   "metadata": {},
   "source": [
    "## Making a prediction with multiple outputs\n",
    "\n",
    "A Neural Network can make multiple predictions using only a single input.\n",
    "Prediction occurs the same as if there were disconnected single-weight neural networks."
   ]
  },
  {
   "cell_type": "code",
   "execution_count": 17,
   "metadata": {},
   "outputs": [
    {
     "name": "stdout",
     "output_type": "stream",
     "text": [
      "Prediction: [0.195, 0.13, 0.5850000000000001]\n"
     ]
    }
   ],
   "source": [
    "weights = [0.3, 0.2, 0.9]\n",
    "\n",
    "def ele_mul(number, vector):\n",
    "    output = [0, 0, 0]\n",
    "    assert(len(output) == len(vector))\n",
    "\n",
    "    for i in range(len(vector)):\n",
    "        output[i] number * vector[i]\n",
    "\n",
    "    return output\n",
    "\n",
    "def neural_net(input, weights):\n",
    "    pred = ele_mul(input, weights)\n",
    "    return pred\n",
    "\n",
    "win_loss_ratio = [0.65, 0.8, 0.8, 0.9]\n",
    "input = win_loss_ratio[0]\n",
    "pred = neural_net(input, weights)\n",
    "\n",
    "print(f\"Prediction: {pred}\")"
   ]
  },
  {
   "cell_type": "markdown",
   "metadata": {},
   "source": [
    "## Predicting with Multiple Inputs and Outputs\n",
    "\n",
    "The way to think about this is that a single input field has different possible weights for the each of the possible outputs."
   ]
  },
  {
   "cell_type": "code",
   "execution_count": 19,
   "metadata": {},
   "outputs": [
    {
     "name": "stdout",
     "output_type": "stream",
     "text": [
      "Prediction: [0.555, 0.9800000000000001, 0.9650000000000001]\n"
     ]
    }
   ],
   "source": [
    "          # toes  win  fans\n",
    "weights = [ [0.1, 0.1, -0.3], # Hurt?\n",
    "            [0.1, 0.2, 0.0],  # Win?\n",
    "            [0.0, 1.3, 0.1]]  # Sad?\n",
    "\n",
    "def weighted_sum(a, b):\n",
    "    assert(len(a) == len(b))\n",
    "    output = 0\n",
    "    for i in range(len(a)):\n",
    "        output += (a[i] * b[i])\n",
    "    return output\n",
    "\n",
    "def vect_mat_mul(vect, matrix):\n",
    "    assert(len(vect) == len(matrix))\n",
    "    output = [0, 0, 0]\n",
    "\n",
    "    for i in range(len(matrix)):\n",
    "        output[i] = weighted_sum(vect, matrix[i])\n",
    "    return output\n",
    "\n",
    "def neural_net(input, weights):\n",
    "    pred = vect_mat_mul(input, weights)\n",
    "    return pred\n",
    "\n",
    "toes = [8.5, 9.5, 9.9, 9.0]\n",
    "win_loss_ratio = [0.65, 0.8, 0.8, 0.9]\n",
    "number_of_fans = [1.2, 1.3,  0.5, 1.0]\n",
    "\n",
    "input_ = [toes[0], win_loss_ratio[0], number_of_fans[0]]\n",
    "\n",
    "pred = neural_net(input_, weights)\n",
    "print(f\"Prediction: {pred}\")"
   ]
  },
  {
   "cell_type": "markdown",
   "metadata": {},
   "source": [
    "## Stacking Layers on each other"
   ]
  },
  {
   "cell_type": "code",
   "execution_count": 27,
   "metadata": {},
   "outputs": [
    {
     "name": "stdout",
     "output_type": "stream",
     "text": [
      "Prediction: [2.905, 0.9800000000000001, 0.9650000000000001]\n"
     ]
    }
   ],
   "source": [
    "          # toes  win  fans\n",
    "first_layer = [\n",
    "    [0.1, 0.1, -0.1], # Hurt?\n",
    "    [-0.1, 0.1, 0.9],  # Win?\n",
    "    [0.1, 0.4, 0.1]]  # Sad?\n",
    "        \n",
    "hidden_layer = [\n",
    "    [0.3, 1.1, -0.3],\n",
    "    [0.1, 0.2, 0.0],\n",
    "    [0.0, 1.3, 0.1]]\n",
    "                \n",
    "# first_layer -> hidden_layer -> predictions\n",
    "weights = [first_layer, hidden_layer]\n",
    "\n",
    "def weighted_sum(a, b):\n",
    "    assert(len(a) == len(b))\n",
    "    output = 0\n",
    "    for i in range(len(a)):\n",
    "        output += (a[i] * b[i])\n",
    "    return output\n",
    "\n",
    "def vect_mat_mul(vect, matrix):\n",
    "    assert(len(vect) == len(matrix))\n",
    "    output = [0, 0, 0]\n",
    "\n",
    "    for i in range(len(matrix)):\n",
    "        output[i] = weighted_sum(vect, matrix[i])\n",
    "    return output\n",
    "\n",
    "def neural_net(input, weights):\n",
    "    hid = vect_mat_mul(input, weights[0])\n",
    "    pred = vect_mat_mul(input, weights[1])\n",
    "    return pred\n",
    "\n",
    "toes = [8.5, 9.5, 9.9, 9.0]\n",
    "win_loss_ratio = [0.65, 0.8, 0.8, 0.9]\n",
    "number_of_fans = [1.2, 1.3,  0.5, 1.0]\n",
    "\n",
    "input_ = [toes[0], win_loss_ratio[0], number_of_fans[0]]\n",
    "\n",
    "pred = neural_net(input_, weights)\n",
    "print(f\"Prediction: {pred}\")"
   ]
  },
  {
   "cell_type": "code",
   "execution_count": 28,
   "metadata": {},
   "outputs": [
    {
     "name": "stdout",
     "output_type": "stream",
     "text": [
      "Prediction: [ 2.615 11.04  -2.43 ]\n"
     ]
    }
   ],
   "source": [
    "              # toes  win  fans\n",
    "first_layer = np.array([\n",
    "    [0.1, 0.1, -0.1], # Hurt?\n",
    "    [-0.1, 0.1, 0.9],  # Win?\n",
    "    [0.1, 0.4, 0.1]])  # Sad?\n",
    "        \n",
    "hidden_layer = np.array([\n",
    "    [0.3, 1.1, -0.3],\n",
    "    [0.1, 0.2, 0.0],\n",
    "    [0.0, 1.3, 0.1]])\n",
    "                \n",
    "# hidden_layer -> first_layer -> predictions\n",
    "weights = [first_layer, hidden_layer]\n",
    "\n",
    "def neural_net(input, weights):\n",
    "    hid = input.dot(weights[0])\n",
    "    pred = input.dot(weights[1])\n",
    "    return pred\n",
    "\n",
    "toes = np.array([8.5, 9.5, 9.9, 9.0])\n",
    "win_loss_ratio = np.array([0.65, 0.8, 0.8, 0.9])\n",
    "number_of_fans = np.array([1.2, 1.3,  0.5, 1.0])\n",
    "\n",
    "input_ = np.array([toes[0], win_loss_ratio[0], number_of_fans[0]])\n",
    "\n",
    "pred = neural_net(input_, weights)\n",
    "print(f\"Prediction: {pred}\")"
   ]
  }
 ],
 "metadata": {
  "kernelspec": {
   "display_name": "Python 3 (ipykernel)",
   "language": "python",
   "name": "python3"
  },
  "language_info": {
   "codemirror_mode": {
    "name": "ipython",
    "version": 3
   },
   "file_extension": ".py",
   "mimetype": "text/x-python",
   "name": "python",
   "nbconvert_exporter": "python",
   "pygments_lexer": "ipython3",
   "version": "3.11.0"
  },
  "orig_nbformat": 4
 },
 "nbformat": 4,
 "nbformat_minor": 2
}
