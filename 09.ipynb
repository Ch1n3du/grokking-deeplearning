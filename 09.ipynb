{
 "cells": [
  {
   "cell_type": "code",
   "execution_count": 3,
   "metadata": {},
   "outputs": [],
   "source": [
    "import numpy as np, sys\n",
    "from keras.datasets import mnist\n",
    "\n",
    "\n",
    "(training_images, training_labels), (test_images, test_labels_) = mnist.load_data()\n",
    "\n",
    "# Flatten the images from (1000, 28, 28) -> (1000, 784).\n",
    "images = training_images[:1000].reshape(1000, 28*28) / 255\n",
    "labels_ = training_labels[:1000]\n",
    "labels = np.zeros((len(labels_), 10))\n",
    "for i, label in enumerate(labels_):\n",
    "    # For each row turn on the point at the index of the label.\n",
    "    labels[i][label] = 1\n",
    "\n",
    "test_images = test_images.reshape(len(test_images), 28*28) / 255\n",
    "# Create a matrix of width 10 to store the output.\n",
    "test_labels = np.zeros((len(test_labels_), 10))\n",
    "for i, label in enumerate(test_labels_):\n",
    "    # For each row turn on the point at the index of the label.\n",
    "    test_labels[i][label] = 1\n",
    "                       \n",
    "np.random.seed(1)\n",
    "relu = lambda x: (x >= 0) * x\n",
    "relu_derivative = lambda x: x >= 0\n",
    "alpha = 0.005\n",
    "hidden_width = 40\n",
    "iterations = 350\n",
    "pixels_per_image = 28*28\n",
    "number_of_labels = 10\n",
    "                       \n",
    "scale = lambda array: 0.2*array - 0.1\n",
    "weights_0_1 = scale(np.random.random((pixels_per_image, hidden_width)))\n",
    "weights_1_2 = scale(np.random.random((hidden_width, number_of_labels)))\n"
   ]
  },
  {
   "cell_type": "code",
   "execution_count": 4,
   "metadata": {},
   "outputs": [
    {
     "name": "stdout",
     "output_type": "stream",
     "text": [
      "\n",
      "I:0 Test-Err:1.404 Test-Acc:0.2903 Train-Err:0.883 Train-Acc:0.172\n",
      "I:10 Test-Err:5.057 Test-Acc:0.7501 Train-Err:0.381 Train-Acc:0.776\n",
      "I:20 Test-Err:11.97 Test-Acc:0.778 Train-Err:0.249 Train-Acc:0.864\n",
      "I:30 Test-Err:19.43 Test-Acc:0.788 Train-Err:0.199 Train-Acc:0.887\n",
      "I:40 Test-Err:27.97 Test-Acc:0.7883 Train-Err:0.163 Train-Acc:0.9\n",
      "I:50 Test-Err:41.08 Test-Acc:0.7594 Train-Err:0.148 Train-Acc:0.916\n",
      "I:60 Test-Err:54.10 Test-Acc:0.7313 Train-Err:0.131 Train-Acc:0.916\n",
      "I:70 Test-Err:68.11 Test-Acc:0.6847 Train-Err:0.137 Train-Acc:0.909\n",
      "I:80 Test-Err:80.32 Test-Acc:0.6283 Train-Err:0.131 Train-Acc:0.919\n",
      "I:90 Test-Err:93.51 Test-Acc:0.5972 Train-Err:0.127 Train-Acc:0.919\n",
      "I:100 Test-Err:108.5 Test-Acc:0.4904 Train-Err:0.138 Train-Acc:0.912\n",
      "I:110 Test-Err:168.6 Test-Acc:0.3239 Train-Err:0.170 Train-Acc:0.885"
     ]
    },
    {
     "ename": "KeyboardInterrupt",
     "evalue": "",
     "output_type": "error",
     "traceback": [
      "\u001b[0;31m---------------------------------------------------------------------------\u001b[0m",
      "\u001b[0;31mKeyboardInterrupt\u001b[0m                         Traceback (most recent call last)",
      "\u001b[1;32m/home/ebisu/Documents/deeplearning/grokking-deeplearning/09.ipynb Cell 2\u001b[0m in \u001b[0;36m<cell line: 30>\u001b[0;34m()\u001b[0m\n\u001b[1;32m     <a href='vscode-notebook-cell:/home/ebisu/Documents/deeplearning/grokking-deeplearning/09.ipynb#ch0000000?line=46'>47</a>\u001b[0m         layer_1_delta \u001b[39m*\u001b[39m\u001b[39m=\u001b[39m dropout_mask\n\u001b[1;32m     <a href='vscode-notebook-cell:/home/ebisu/Documents/deeplearning/grokking-deeplearning/09.ipynb#ch0000000?line=48'>49</a>\u001b[0m         weights_1_2 \u001b[39m+\u001b[39m\u001b[39m=\u001b[39m alpha \u001b[39m*\u001b[39m layer_1\u001b[39m.\u001b[39mT\u001b[39m.\u001b[39mdot(layer_2_delta)\n\u001b[0;32m---> <a href='vscode-notebook-cell:/home/ebisu/Documents/deeplearning/grokking-deeplearning/09.ipynb#ch0000000?line=49'>50</a>\u001b[0m         weights_0_1 \u001b[39m+\u001b[39m\u001b[39m=\u001b[39m alpha \u001b[39m*\u001b[39m layer_0\u001b[39m.\u001b[39mT\u001b[39m.\u001b[39mdot(layer_1_delta)\n\u001b[1;32m     <a href='vscode-notebook-cell:/home/ebisu/Documents/deeplearning/grokking-deeplearning/09.ipynb#ch0000000?line=51'>52</a>\u001b[0m \u001b[39mif\u001b[39;00m(j\u001b[39m%\u001b[39m\u001b[39m10\u001b[39m \u001b[39m==\u001b[39m \u001b[39m0\u001b[39m):\n\u001b[1;32m     <a href='vscode-notebook-cell:/home/ebisu/Documents/deeplearning/grokking-deeplearning/09.ipynb#ch0000000?line=52'>53</a>\u001b[0m     test_error \u001b[39m=\u001b[39m \u001b[39m0.0\u001b[39m\n",
      "\u001b[0;31mKeyboardInterrupt\u001b[0m: "
     ]
    }
   ],
   "source": [
    "np.random.seed(1)\n",
    "\n",
    "def relu(x):\n",
    "    return (x >= 0) * x # returns x if x > 0\n",
    "\n",
    "def relu2deriv(output):\n",
    "    return output >= 0 # returns 1 for input > 0\n",
    "\n",
    "def tanh(x):\n",
    "    return np.tanh(x)\n",
    "def tanh2deriv(output):\n",
    "    return 1 - (output**2) \n",
    "\n",
    "def softmax(input):\n",
    "    # Raise the input the a power e\n",
    "    exponented = np.exp(input)\n",
    "    # Axis=1 because we're doing batch GD\n",
    "    sum_of_exponented = np.sum(exponented, axis=1, keepdims=True)\n",
    "    return exponented / sum_of_exponented\n",
    "\n",
    "batch_size = 100\n",
    "alpha, iterations = (0.001, 300)\n",
    "pixels_per_image, num_labels, hidden_size = (784, 10, 100)\n",
    "\n",
    "weights_0_1 = 0.2*np.random.random((pixels_per_image,hidden_size)) - 0.1\n",
    "weights_1_2 = 0.2*np.random.random((hidden_size,num_labels)) - 0.1\n",
    "\n",
    "# Train \n",
    "\n",
    "for j in range(iterations):\n",
    "    error, correct_cnt = (0.0, 0)\n",
    "    for i in range(int(len(images) / batch_size)):\n",
    "        batch_start, batch_end = ((i * batch_size),((i+1)*batch_size))\n",
    "\n",
    "        layer_0 = images[batch_start:batch_end]\n",
    "        layer_1 = tanh(np.dot(layer_0,weights_0_1))\n",
    "        dropout_mask = np.random.randint(2,size=layer_1.shape)\n",
    "        layer_1 *= dropout_mask * 2\n",
    "        layer_2 = softmax(layer_1.dot(weights_1_2))\n",
    "\n",
    "        error += np.sum((labels[batch_start:batch_end] - layer_2) ** 2)\n",
    "        for k in range(batch_size):\n",
    "            correct_cnt += int(np.argmax(layer_2[k:k+1]) == np.argmax(labels[batch_start+k:batch_start+k+1]))\n",
    "\n",
    "            layer_2_delta = (labels[batch_start:batch_end]-layer_2)/batch_size\n",
    "            layer_1_delta = layer_2_delta.dot(weights_1_2.T)* tanh2deriv(layer_1)\n",
    "            layer_1_delta *= dropout_mask\n",
    "\n",
    "            weights_1_2 += alpha * layer_1.T.dot(layer_2_delta)\n",
    "            weights_0_1 += alpha * layer_0.T.dot(layer_1_delta)\n",
    "            \n",
    "    if(j%10 == 0):\n",
    "        test_error = 0.0\n",
    "        test_correct_cnt = 0\n",
    "\n",
    "        for i in range(len(test_images)):\n",
    "            layer_0 = test_images[i:i+1]\n",
    "            layer_1 = relu(np.dot(layer_0,weights_0_1))\n",
    "            layer_2 = np.dot(layer_1, weights_1_2)\n",
    "\n",
    "            test_error += np.sum((test_labels[i:i+1] - layer_2) ** 2)\n",
    "            test_correct_cnt += int(np.argmax(layer_2) == np.argmax(test_labels[i:i+1]))\n",
    "\n",
    "        sys.stdout.write(\"\\n\" + \\\n",
    "                         \"I:\" + str(j) + \\\n",
    "                         \" Test-Err:\" + str(test_error/ float(len(test_images)))[0:5] +\\\n",
    "                         \" Test-Acc:\" + str(test_correct_cnt/ float(len(test_images)))+\\\n",
    "                         \" Train-Err:\" + str(error/ float(len(images)))[0:5] +\\\n",
    "                         \" Train-Acc:\" + str(correct_cnt/ float(len(images))))"
   ]
  },
  {
   "cell_type": "markdown",
   "metadata": {},
   "source": [
    "\n"
   ]
  }
 ],
 "metadata": {
  "kernelspec": {
   "display_name": "Python 3.10.8 ('mnisty')",
   "language": "python",
   "name": "python3"
  },
  "language_info": {
   "codemirror_mode": {
    "name": "ipython",
    "version": 3
   },
   "file_extension": ".py",
   "mimetype": "text/x-python",
   "name": "python",
   "nbconvert_exporter": "python",
   "pygments_lexer": "ipython3",
   "version": "3.10.8"
  },
  "orig_nbformat": 4,
  "vscode": {
   "interpreter": {
    "hash": "9274f2d8c77b76462ad583e7daf7ab6b56751dfe662f4fbc0166c5430364d90d"
   }
  }
 },
 "nbformat": 4,
 "nbformat_minor": 2
}
